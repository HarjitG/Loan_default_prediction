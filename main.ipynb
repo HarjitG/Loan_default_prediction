{
 "cells": [
  {
   "cell_type": "code",
   "execution_count": 65,
   "metadata": {},
   "outputs": [],
   "source": [
    "import pandas as pd\n",
    "import numpy as np\n",
    "import warnings\n",
    "import xgboost as xgb\n",
    "import seaborn as sns\n",
    "import matplotlib.pyplot as plt\n",
    "from sklearn.model_selection import train_test_split\n",
    "from sklearn.preprocessing import LabelEncoder\n",
    "from sklearn.preprocessing import StandardScaler\n",
    "from sklearn.ensemble import RandomForestClassifier\n",
    "from sklearn.linear_model import LogisticRegression\n",
    "from sklearn.metrics import accuracy_score, classification_report, confusion_matrix\n",
    "\n",
    "warnings.filterwarnings(\"ignore\")"
   ]
  },
  {
   "cell_type": "code",
   "execution_count": 66,
   "metadata": {},
   "outputs": [
    {
     "data": {
      "text/html": [
       "<div>\n",
       "<style scoped>\n",
       "    .dataframe tbody tr th:only-of-type {\n",
       "        vertical-align: middle;\n",
       "    }\n",
       "\n",
       "    .dataframe tbody tr th {\n",
       "        vertical-align: top;\n",
       "    }\n",
       "\n",
       "    .dataframe thead th {\n",
       "        text-align: right;\n",
       "    }\n",
       "</style>\n",
       "<table border=\"1\" class=\"dataframe\">\n",
       "  <thead>\n",
       "    <tr style=\"text-align: right;\">\n",
       "      <th></th>\n",
       "      <th>borrower_id</th>\n",
       "      <th>loan_amnt</th>\n",
       "      <th>term</th>\n",
       "      <th>emp_title</th>\n",
       "      <th>emp_length</th>\n",
       "      <th>home_ownership</th>\n",
       "      <th>annual_inc</th>\n",
       "      <th>outcome</th>\n",
       "      <th>purpose</th>\n",
       "      <th>addr_state</th>\n",
       "      <th>...</th>\n",
       "      <th>num_tl_90g_dpd_24m</th>\n",
       "      <th>num_tl_op_past_12m</th>\n",
       "      <th>pct_tl_nvr_dlq</th>\n",
       "      <th>percent_bc_gt_75</th>\n",
       "      <th>pub_rec_bankruptcies</th>\n",
       "      <th>tax_liens</th>\n",
       "      <th>tot_hi_cred_lim</th>\n",
       "      <th>total_bal_ex_mort</th>\n",
       "      <th>total_bc_limit</th>\n",
       "      <th>total_il_high_credit_limit</th>\n",
       "    </tr>\n",
       "  </thead>\n",
       "  <tbody>\n",
       "    <tr>\n",
       "      <th>0</th>\n",
       "      <td>537185</td>\n",
       "      <td>16075.0</td>\n",
       "      <td>60 months</td>\n",
       "      <td>NaN</td>\n",
       "      <td>NaN</td>\n",
       "      <td>MORTGAGE</td>\n",
       "      <td>50289.0</td>\n",
       "      <td>Fully Paid</td>\n",
       "      <td>home_improvement</td>\n",
       "      <td>SC</td>\n",
       "      <td>...</td>\n",
       "      <td>0.0</td>\n",
       "      <td>2.0</td>\n",
       "      <td>95.7</td>\n",
       "      <td>100.0</td>\n",
       "      <td>0.0</td>\n",
       "      <td>0</td>\n",
       "      <td>227376.0</td>\n",
       "      <td>15756.0</td>\n",
       "      <td>11900.0</td>\n",
       "      <td>6000.0</td>\n",
       "    </tr>\n",
       "    <tr>\n",
       "      <th>1</th>\n",
       "      <td>1810804</td>\n",
       "      <td>8000.0</td>\n",
       "      <td>36 months</td>\n",
       "      <td>Graydon Head &amp; Ritchey LLP</td>\n",
       "      <td>10+ years</td>\n",
       "      <td>MORTGAGE</td>\n",
       "      <td>64000.0</td>\n",
       "      <td>Fully Paid</td>\n",
       "      <td>debt_consolidation</td>\n",
       "      <td>IN</td>\n",
       "      <td>...</td>\n",
       "      <td>0.0</td>\n",
       "      <td>0.0</td>\n",
       "      <td>100.0</td>\n",
       "      <td>75.0</td>\n",
       "      <td>1.0</td>\n",
       "      <td>0</td>\n",
       "      <td>121881.0</td>\n",
       "      <td>33618.0</td>\n",
       "      <td>13700.0</td>\n",
       "      <td>29400.0</td>\n",
       "    </tr>\n",
       "    <tr>\n",
       "      <th>2</th>\n",
       "      <td>388855</td>\n",
       "      <td>23700.0</td>\n",
       "      <td>36 months</td>\n",
       "      <td>Director of IT</td>\n",
       "      <td>3 years</td>\n",
       "      <td>RENT</td>\n",
       "      <td>88000.0</td>\n",
       "      <td>Fully Paid</td>\n",
       "      <td>debt_consolidation</td>\n",
       "      <td>FL</td>\n",
       "      <td>...</td>\n",
       "      <td>0.0</td>\n",
       "      <td>5.0</td>\n",
       "      <td>100.0</td>\n",
       "      <td>10.0</td>\n",
       "      <td>1.0</td>\n",
       "      <td>0</td>\n",
       "      <td>99201.0</td>\n",
       "      <td>58898.0</td>\n",
       "      <td>18700.0</td>\n",
       "      <td>69501.0</td>\n",
       "    </tr>\n",
       "    <tr>\n",
       "      <th>3</th>\n",
       "      <td>1137067</td>\n",
       "      <td>1200.0</td>\n",
       "      <td>36 months</td>\n",
       "      <td>NaN</td>\n",
       "      <td>NaN</td>\n",
       "      <td>MORTGAGE</td>\n",
       "      <td>81000.0</td>\n",
       "      <td>Fully Paid</td>\n",
       "      <td>other</td>\n",
       "      <td>NY</td>\n",
       "      <td>...</td>\n",
       "      <td>0.0</td>\n",
       "      <td>4.0</td>\n",
       "      <td>83.3</td>\n",
       "      <td>100.0</td>\n",
       "      <td>0.0</td>\n",
       "      <td>0</td>\n",
       "      <td>203983.0</td>\n",
       "      <td>20609.0</td>\n",
       "      <td>1100.0</td>\n",
       "      <td>26183.0</td>\n",
       "    </tr>\n",
       "    <tr>\n",
       "      <th>4</th>\n",
       "      <td>14585</td>\n",
       "      <td>3500.0</td>\n",
       "      <td>36 months</td>\n",
       "      <td>NaN</td>\n",
       "      <td>NaN</td>\n",
       "      <td>RENT</td>\n",
       "      <td>11736.0</td>\n",
       "      <td>Fully Paid</td>\n",
       "      <td>debt_consolidation</td>\n",
       "      <td>WA</td>\n",
       "      <td>...</td>\n",
       "      <td>0.0</td>\n",
       "      <td>1.0</td>\n",
       "      <td>100.0</td>\n",
       "      <td>100.0</td>\n",
       "      <td>1.0</td>\n",
       "      <td>0</td>\n",
       "      <td>16200.0</td>\n",
       "      <td>9459.0</td>\n",
       "      <td>2000.0</td>\n",
       "      <td>0.0</td>\n",
       "    </tr>\n",
       "  </tbody>\n",
       "</table>\n",
       "<p>5 rows × 78 columns</p>\n",
       "</div>"
      ],
      "text/plain": [
       "   borrower_id  loan_amnt       term                   emp_title emp_length  \\\n",
       "0       537185    16075.0  60 months                         NaN        NaN   \n",
       "1      1810804     8000.0  36 months  Graydon Head & Ritchey LLP  10+ years   \n",
       "2       388855    23700.0  36 months              Director of IT    3 years   \n",
       "3      1137067     1200.0  36 months                         NaN        NaN   \n",
       "4        14585     3500.0  36 months                         NaN        NaN   \n",
       "\n",
       "  home_ownership  annual_inc     outcome             purpose addr_state  ...  \\\n",
       "0       MORTGAGE     50289.0  Fully Paid    home_improvement         SC  ...   \n",
       "1       MORTGAGE     64000.0  Fully Paid  debt_consolidation         IN  ...   \n",
       "2           RENT     88000.0  Fully Paid  debt_consolidation         FL  ...   \n",
       "3       MORTGAGE     81000.0  Fully Paid               other         NY  ...   \n",
       "4           RENT     11736.0  Fully Paid  debt_consolidation         WA  ...   \n",
       "\n",
       "   num_tl_90g_dpd_24m  num_tl_op_past_12m pct_tl_nvr_dlq  percent_bc_gt_75  \\\n",
       "0                 0.0                 2.0           95.7             100.0   \n",
       "1                 0.0                 0.0          100.0              75.0   \n",
       "2                 0.0                 5.0          100.0              10.0   \n",
       "3                 0.0                 4.0           83.3             100.0   \n",
       "4                 0.0                 1.0          100.0             100.0   \n",
       "\n",
       "   pub_rec_bankruptcies  tax_liens  tot_hi_cred_lim  total_bal_ex_mort  \\\n",
       "0                   0.0          0         227376.0            15756.0   \n",
       "1                   1.0          0         121881.0            33618.0   \n",
       "2                   1.0          0          99201.0            58898.0   \n",
       "3                   0.0          0         203983.0            20609.0   \n",
       "4                   1.0          0          16200.0             9459.0   \n",
       "\n",
       "   total_bc_limit  total_il_high_credit_limit  \n",
       "0         11900.0                      6000.0  \n",
       "1         13700.0                     29400.0  \n",
       "2         18700.0                     69501.0  \n",
       "3          1100.0                     26183.0  \n",
       "4          2000.0                         0.0  \n",
       "\n",
       "[5 rows x 78 columns]"
      ]
     },
     "execution_count": 66,
     "metadata": {},
     "output_type": "execute_result"
    }
   ],
   "source": [
    "df = pd.read_csv('data/Tillit_Data.csv')\n",
    "df.head()"
   ]
  },
  {
   "cell_type": "code",
   "execution_count": 67,
   "metadata": {},
   "outputs": [
    {
     "name": "stdout",
     "output_type": "stream",
     "text": [
      "<class 'pandas.core.frame.DataFrame'>\n",
      "RangeIndex: 41029 entries, 0 to 41028\n",
      "Data columns (total 78 columns):\n",
      " #   Column                          Non-Null Count  Dtype  \n",
      "---  ------                          --------------  -----  \n",
      " 0   borrower_id                     41029 non-null  int64  \n",
      " 1   loan_amnt                       41006 non-null  float64\n",
      " 2   term                            41029 non-null  object \n",
      " 3   emp_title                       36311 non-null  object \n",
      " 4   emp_length                      36628 non-null  object \n",
      " 5   home_ownership                  41029 non-null  object \n",
      " 6   annual_inc                      41029 non-null  float64\n",
      " 7   outcome                         41029 non-null  object \n",
      " 8   purpose                         41029 non-null  object \n",
      " 9   addr_state                      41029 non-null  object \n",
      " 10  dti                             41029 non-null  float64\n",
      " 11  delinq_2yrs                     41029 non-null  int64  \n",
      " 12  earliest_cr_line                41029 non-null  object \n",
      " 13  inq_last_6mths                  41029 non-null  int64  \n",
      " 14  mths_since_last_delinq          19875 non-null  float64\n",
      " 15  mths_since_last_record          6816 non-null   float64\n",
      " 16  open_acc                        41029 non-null  int64  \n",
      " 17  pub_rec                         41029 non-null  int64  \n",
      " 18  revol_bal                       41029 non-null  int64  \n",
      " 19  revol_util                      41005 non-null  float64\n",
      " 20  total_acc                       41029 non-null  int64  \n",
      " 21  collections_12_mths_ex_med      41029 non-null  int64  \n",
      " 22  mths_since_last_major_derog     10651 non-null  float64\n",
      " 23  acc_now_delinq                  41029 non-null  int64  \n",
      " 24  tot_coll_amt                    38625 non-null  float64\n",
      " 25  tot_cur_bal                     38625 non-null  float64\n",
      " 26  open_acc_6m                     13351 non-null  float64\n",
      " 27  open_act_il                     13351 non-null  float64\n",
      " 28  open_il_12m                     13351 non-null  float64\n",
      " 29  open_il_24m                     13351 non-null  float64\n",
      " 30  mths_since_rcnt_il              13015 non-null  float64\n",
      " 31  total_bal_il                    13351 non-null  float64\n",
      " 32  il_util                         11674 non-null  float64\n",
      " 33  open_rv_12m                     13351 non-null  float64\n",
      " 34  open_rv_24m                     13351 non-null  float64\n",
      " 35  max_bal_bc                      13351 non-null  float64\n",
      " 36  all_util                        13349 non-null  float64\n",
      " 37  total_rev_hi_lim                38625 non-null  float64\n",
      " 38  inq_fi                          13351 non-null  float64\n",
      " 39  total_cu_tl                     13351 non-null  float64\n",
      " 40  inq_last_12m                    13351 non-null  float64\n",
      " 41  acc_open_past_24mths            39380 non-null  float64\n",
      " 42  avg_cur_bal                     38625 non-null  float64\n",
      " 43  bc_open_to_buy                  38930 non-null  float64\n",
      " 44  bc_util                         38902 non-null  float64\n",
      " 45  chargeoff_within_12_mths        41029 non-null  int64  \n",
      " 46  delinq_amnt                     41029 non-null  int64  \n",
      " 47  mo_sin_old_il_acct              37334 non-null  float64\n",
      " 48  mo_sin_old_rev_tl_op            38625 non-null  float64\n",
      " 49  mo_sin_rcnt_rev_tl_op           38625 non-null  float64\n",
      " 50  mo_sin_rcnt_tl                  38625 non-null  float64\n",
      " 51  mort_acc                        39380 non-null  float64\n",
      " 52  mths_since_recent_bc            38960 non-null  float64\n",
      " 53  mths_since_recent_bc_dlq        9455 non-null   float64\n",
      " 54  mths_since_recent_inq           35686 non-null  float64\n",
      " 55  mths_since_recent_revol_delinq  13256 non-null  float64\n",
      " 56  num_accts_ever_120_pd           38625 non-null  float64\n",
      " 57  num_actv_bc_tl                  38625 non-null  float64\n",
      " 58  num_actv_rev_tl                 38625 non-null  float64\n",
      " 59  num_bc_sats                     39072 non-null  float64\n",
      " 60  num_bc_tl                       38625 non-null  float64\n",
      " 61  num_il_tl                       38625 non-null  float64\n",
      " 62  num_op_rev_tl                   38625 non-null  float64\n",
      " 63  num_rev_accts                   38625 non-null  float64\n",
      " 64  num_rev_tl_bal_gt_0             38625 non-null  float64\n",
      " 65  num_sats                        39072 non-null  float64\n",
      " 66  num_tl_120dpd_2m                36152 non-null  float64\n",
      " 67  num_tl_30dpd                    38625 non-null  float64\n",
      " 68  num_tl_90g_dpd_24m              38625 non-null  float64\n",
      " 69  num_tl_op_past_12m              38625 non-null  float64\n",
      " 70  pct_tl_nvr_dlq                  38619 non-null  float64\n",
      " 71  percent_bc_gt_75                38919 non-null  float64\n",
      " 72  pub_rec_bankruptcies            41028 non-null  float64\n",
      " 73  tax_liens                       41029 non-null  int64  \n",
      " 74  tot_hi_cred_lim                 38625 non-null  float64\n",
      " 75  total_bal_ex_mort               39380 non-null  float64\n",
      " 76  total_bc_limit                  39380 non-null  float64\n",
      " 77  total_il_high_credit_limit      38625 non-null  float64\n",
      "dtypes: float64(58), int64(12), object(8)\n",
      "memory usage: 24.4+ MB\n"
     ]
    }
   ],
   "source": [
    "df.info()"
   ]
  },
  {
   "cell_type": "code",
   "execution_count": 68,
   "metadata": {},
   "outputs": [
    {
     "data": {
      "text/plain": [
       "count    4.102900e+04\n",
       "mean     8.008188e+04\n",
       "std      6.165221e+04\n",
       "min      2.500000e+03\n",
       "25%      4.700000e+04\n",
       "50%      6.738800e+04\n",
       "75%      9.700000e+04\n",
       "max      3.300000e+06\n",
       "Name: annual_inc, dtype: float64"
      ]
     },
     "execution_count": 68,
     "metadata": {},
     "output_type": "execute_result"
    }
   ],
   "source": [
    "df['annual_inc'].describe()"
   ]
  },
  {
   "cell_type": "code",
   "execution_count": 69,
   "metadata": {},
   "outputs": [
    {
     "data": {
      "image/png": "[encoded data removed]",
      "text/plain": [
       "<Figure size 640x480 with 1 Axes>"
      ]
     },
     "metadata": {},
     "output_type": "display_data"
    }
   ],
   "source": [
    "plt.boxplot(df['annual_inc'])\n",
    "plt.xlabel('Companies')\n",
    "plt.title('Distribution of income')\n",
    "plt.show()"
   ]
  },
  {
   "cell_type": "code",
   "execution_count": 70,
   "metadata": {},
   "outputs": [
    {
     "data": {
      "text/plain": [
       "outcome\n",
       "Fully Paid    10042\n",
       "Defaulted       182\n",
       "Name: count, dtype: int64"
      ]
     },
     "execution_count": 70,
     "metadata": {},
     "output_type": "execute_result"
    }
   ],
   "source": [
    "df[df['annual_inc'] >97000]['outcome'].value_counts()"
   ]
  },
  {
   "cell_type": "markdown",
   "metadata": {},
   "source": [
    "We can see that the large values that may be seen as anomolies due to their size are valid points and most are also fully paid, thus we can proceed."
   ]
  },
  {
   "cell_type": "markdown",
   "metadata": {},
   "source": [
    "### Dealing with missing data"
   ]
  },
  {
   "cell_type": "code",
   "execution_count": 71,
   "metadata": {},
   "outputs": [
    {
     "name": "stdout",
     "output_type": "stream",
     "text": [
      "mths_since_last_record         34213\n",
      "mths_since_recent_bc_dlq       31574\n",
      "mths_since_last_major_derog    30378\n",
      "il_util                        29355\n",
      "mths_since_rcnt_il             28014\n",
      "                               ...  \n",
      "collections_12_mths_ex_med         0\n",
      "acc_now_delinq                     0\n",
      "delinq_amnt                        0\n",
      "chargeoff_within_12_mths           0\n",
      "borrower_id                        0\n",
      "Length: 78, dtype: int64\n"
     ]
    }
   ],
   "source": [
    "print(df.isna().sum().sort_values(ascending=False))\n",
    "# Below we can see the number empty entries for the columns"
   ]
  },
  {
   "cell_type": "code",
   "execution_count": 72,
   "metadata": {},
   "outputs": [],
   "source": [
    "columns_to_drop = ['mths_since_last_record', 'mths_since_recent_bc_dlq', 'mths_since_last_major_derog', 'il_util',\n",
    "                   'mths_since_rcnt_il', 'mths_since_recent_revol_delinq', 'all_util', 'open_il_12m', 'open_acc_6m',\n",
    "                   'open_act_il', 'total_cu_tl', 'open_il_24m', 'total_bal_il','open_rv_12m', 'open_rv_24m', 'max_bal_bc',\n",
    "                   'inq_fi','inq_last_12m', 'mths_since_last_delinq'\n",
    "                   ] # These columns have a large number of null values, so I have decided to drop the whole column\n",
    "\n",
    "df.drop(columns = columns_to_drop, inplace=True)\n",
    "df.dropna(inplace=True) # I have also dropped rows with null values, given more time I could have looked into estimating these values e.g. using mean, mode etc"
   ]
  },
  {
   "cell_type": "code",
   "execution_count": 73,
   "metadata": {},
   "outputs": [
    {
     "data": {
      "text/plain": [
       "(27736, 59)"
      ]
     },
     "execution_count": 73,
     "metadata": {},
     "output_type": "execute_result"
    }
   ],
   "source": [
    "df.shape\n",
    "#around 13000 rows dropped from dataset"
   ]
  },
  {
   "cell_type": "markdown",
   "metadata": {},
   "source": [
    "We can clearly see that we have a large number of columns so a correlation heatmap would not be suitable. Furthermore we have both numerical and categorical variables so need to apply ensemble techniques on the columns below so that they are in a suitable format for the modelling phase of this notebook."
   ]
  },
  {
   "cell_type": "markdown",
   "metadata": {},
   "source": [
    "-    term                            41029 non-null  object \n",
    "-    emp_title                       36311 non-null  object \n",
    "-    emp_length                      36628 non-null  object\n",
    "-    home_ownership                  41029 non-null  object\n",
    "-    purpose                         41029 non-null  object\n",
    "-    addr_state                      41029 non-null  object \n",
    "-   earliest_cr_line                41029 non-null  object  "
   ]
  },
  {
   "cell_type": "code",
   "execution_count": 74,
   "metadata": {},
   "outputs": [
    {
     "data": {
      "image/png": "[encoded data removed]",
      "text/plain": [
       "<Figure size 800x600 with 1 Axes>"
      ]
     },
     "metadata": {},
     "output_type": "display_data"
    }
   ],
   "source": [
    "total = df['outcome'].value_counts() # We can see 1000 defaulted, may have some bias issues\n",
    "grouped_data = df.groupby(['outcome', 'purpose']).size().unstack(fill_value=0)\n",
    "grouped_data = grouped_data.div(total/100, axis=0)\n",
    "\n",
    "# Plot the proportions\n",
    "ax = grouped_data.plot(kind='bar', stacked=False, figsize=(8, 6))\n",
    "ax.set_ylabel('Proportion (%)')\n",
    "ax.set_xlabel('Outcome')\n",
    "ax.set_title('% of Purposes for each outcome')\n",
    "ax.legend(title='Purpose', bbox_to_anchor=(1.05, 1), loc='upper left')\n",
    "\n",
    "plt.show()"
   ]
  },
  {
   "cell_type": "markdown",
   "metadata": {},
   "source": [
    "We can see that for the purpose, Debt consolidation and Credit card where the two most popular across both classes, followed by home improvement. As we don't want unnecessary features as this can lead to overfitting, we will combine other and the minority purposes into the the 'Other' class, and keep the top 3 as they are."
   ]
  },
  {
   "cell_type": "markdown",
   "metadata": {},
   "source": [
    "### Data cleaning and formatting"
   ]
  },
  {
   "cell_type": "code",
   "execution_count": 75,
   "metadata": {},
   "outputs": [],
   "source": [
    "def emp_length_cleaner(x): # Function for formatting emp_length column\n",
    "    if isinstance(x,str):\n",
    "        if x[0:2] == '10':\n",
    "            x = 10\n",
    "        elif x[0:1] == '<':\n",
    "            x = 1\n",
    "        else:\n",
    "            x = int(x.split()[0])\n",
    "    return(x)"
   ]
  },
  {
   "cell_type": "code",
   "execution_count": 76,
   "metadata": {},
   "outputs": [],
   "source": [
    "ownership_other = ['OTHER', 'ANY', 'NONE'] # Based on minority being any or None\n",
    "\n",
    "purpose_other = ['other', 'moving', 'wedding', 'medical', # based on purpose being < 5 %\n",
    "                 'major_purchase', 'car','small_business',\n",
    "                 'house', 'vacation', 'renewable_energy',\n",
    "                 'educational']\n",
    "\n",
    "# Numerical element stripped from categorical columns \n",
    "df['earliest_cr_line'] = df['earliest_cr_line'].apply(lambda x: int(x.split('-')[1]) if isinstance(x,str) else x)\n",
    "df['term'] = df['term'].apply(lambda x: int(x.split()[0]) if isinstance(x,str) else x)\n",
    "df['emp_length'] = df['emp_length'].apply(lambda x: emp_length_cleaner(x))\n",
    "\n",
    "# Columns to one hot encode\n",
    "df['home_ownership'] = df['home_ownership'].apply(lambda x: 'OTHER' if x in ownership_other else x)\n",
    "df['purpose'] = df['purpose'].apply(lambda x : 'other' if x in purpose_other else x)\n",
    "\n",
    "# Label encoded columns\n",
    "label_encoder = LabelEncoder()\n",
    "df['emp_title'] = label_encoder.fit(df['emp_title']).transform(df['emp_title'])\n",
    "df['addr_state'] = label_encoder.fit(df['addr_state']).transform(df['addr_state'])"
   ]
  },
  {
   "cell_type": "code",
   "execution_count": 77,
   "metadata": {},
   "outputs": [
    {
     "data": {
      "text/plain": [
       "purpose\n",
       "debt_consolidation    16972\n",
       "credit_card            5525\n",
       "other                  3576\n",
       "home_improvement       1663\n",
       "Name: count, dtype: int64"
      ]
     },
     "execution_count": 77,
     "metadata": {},
     "output_type": "execute_result"
    }
   ],
   "source": [
    "df['purpose'].value_counts() # We can see purpose only has 4 categories now"
   ]
  },
  {
   "cell_type": "code",
   "execution_count": 78,
   "metadata": {},
   "outputs": [
    {
     "name": "stdout",
     "output_type": "stream",
     "text": [
      "<class 'pandas.core.frame.DataFrame'>\n",
      "Index: 27736 entries, 1810804 to 1807816\n",
      "Data columns (total 64 columns):\n",
      " #   Column                      Non-Null Count  Dtype  \n",
      "---  ------                      --------------  -----  \n",
      " 0   loan_amnt                   27736 non-null  float64\n",
      " 1   term                        27736 non-null  int64  \n",
      " 2   emp_title                   27736 non-null  int64  \n",
      " 3   emp_length                  27736 non-null  int64  \n",
      " 4   annual_inc                  27736 non-null  float64\n",
      " 5   outcome                     27736 non-null  object \n",
      " 6   addr_state                  27736 non-null  int64  \n",
      " 7   dti                         27736 non-null  float64\n",
      " 8   delinq_2yrs                 27736 non-null  int64  \n",
      " 9   earliest_cr_line            27736 non-null  int64  \n",
      " 10  inq_last_6mths              27736 non-null  int64  \n",
      " 11  open_acc                    27736 non-null  int64  \n",
      " 12  pub_rec                     27736 non-null  int64  \n",
      " 13  revol_bal                   27736 non-null  int64  \n",
      " 14  revol_util                  27736 non-null  float64\n",
      " 15  total_acc                   27736 non-null  int64  \n",
      " 16  collections_12_mths_ex_med  27736 non-null  int64  \n",
      " 17  acc_now_delinq              27736 non-null  int64  \n",
      " 18  tot_coll_amt                27736 non-null  float64\n",
      " 19  tot_cur_bal                 27736 non-null  float64\n",
      " 20  total_rev_hi_lim            27736 non-null  float64\n",
      " 21  acc_open_past_24mths        27736 non-null  float64\n",
      " 22  avg_cur_bal                 27736 non-null  float64\n",
      " 23  bc_open_to_buy              27736 non-null  float64\n",
      " 24  bc_util                     27736 non-null  float64\n",
      " 25  chargeoff_within_12_mths    27736 non-null  int64  \n",
      " 26  delinq_amnt                 27736 non-null  int64  \n",
      " 27  mo_sin_old_il_acct          27736 non-null  float64\n",
      " 28  mo_sin_old_rev_tl_op        27736 non-null  float64\n",
      " 29  mo_sin_rcnt_rev_tl_op       27736 non-null  float64\n",
      " 30  mo_sin_rcnt_tl              27736 non-null  float64\n",
      " 31  mort_acc                    27736 non-null  float64\n",
      " 32  mths_since_recent_bc        27736 non-null  float64\n",
      " 33  mths_since_recent_inq       27736 non-null  float64\n",
      " 34  num_accts_ever_120_pd       27736 non-null  float64\n",
      " 35  num_actv_bc_tl              27736 non-null  float64\n",
      " 36  num_actv_rev_tl             27736 non-null  float64\n",
      " 37  num_bc_sats                 27736 non-null  float64\n",
      " 38  num_bc_tl                   27736 non-null  float64\n",
      " 39  num_il_tl                   27736 non-null  float64\n",
      " 40  num_op_rev_tl               27736 non-null  float64\n",
      " 41  num_rev_accts               27736 non-null  float64\n",
      " 42  num_rev_tl_bal_gt_0         27736 non-null  float64\n",
      " 43  num_sats                    27736 non-null  float64\n",
      " 44  num_tl_120dpd_2m            27736 non-null  float64\n",
      " 45  num_tl_30dpd                27736 non-null  float64\n",
      " 46  num_tl_90g_dpd_24m          27736 non-null  float64\n",
      " 47  num_tl_op_past_12m          27736 non-null  float64\n",
      " 48  pct_tl_nvr_dlq              27736 non-null  float64\n",
      " 49  percent_bc_gt_75            27736 non-null  float64\n",
      " 50  pub_rec_bankruptcies        27736 non-null  float64\n",
      " 51  tax_liens                   27736 non-null  int64  \n",
      " 52  tot_hi_cred_lim             27736 non-null  float64\n",
      " 53  total_bal_ex_mort           27736 non-null  float64\n",
      " 54  total_bc_limit              27736 non-null  float64\n",
      " 55  total_il_high_credit_limit  27736 non-null  float64\n",
      " 56  home_ownership_MORTGAGE     27736 non-null  bool   \n",
      " 57  home_ownership_OTHER        27736 non-null  bool   \n",
      " 58  home_ownership_OWN          27736 non-null  bool   \n",
      " 59  home_ownership_RENT         27736 non-null  bool   \n",
      " 60  purpose_credit_card         27736 non-null  bool   \n",
      " 61  purpose_debt_consolidation  27736 non-null  bool   \n",
      " 62  purpose_home_improvement    27736 non-null  bool   \n",
      " 63  purpose_other               27736 non-null  bool   \n",
      "dtypes: bool(8), float64(39), int64(16), object(1)\n",
      "memory usage: 12.3+ MB\n"
     ]
    }
   ],
   "source": [
    "df_encoded = pd.get_dummies(df, columns=['home_ownership', 'purpose'])\n",
    "df_encoded.set_index('borrower_id', inplace= True)\n",
    "df_encoded.info()\n",
    "# We have now retrieved transformed columns and can see the predictor variables are of type Integer or Float"
   ]
  },
  {
   "cell_type": "code",
   "execution_count": 79,
   "metadata": {},
   "outputs": [
    {
     "data": {
      "text/plain": [
       "outcome\n",
       "Fully Paid    27066\n",
       "Defaulted       670\n",
       "Name: count, dtype: int64"
      ]
     },
     "execution_count": 79,
     "metadata": {},
     "output_type": "execute_result"
    }
   ],
   "source": [
    "df_encoded['outcome'].value_counts()"
   ]
  },
  {
   "cell_type": "markdown",
   "metadata": {},
   "source": [
    "## Initial model buiding looking at Random Forest and Logistic Regression"
   ]
  },
  {
   "cell_type": "code",
   "execution_count": 80,
   "metadata": {},
   "outputs": [],
   "source": [
    "X = df_encoded.drop('outcome', axis = 1)\n",
    "y = df_encoded['outcome']\n",
    "\n",
    "X_train, X_test, y_train, y_test = train_test_split(X, y, test_size=0.2, stratify=y, random_state=42)\n",
    "# We use stratify as the classes are imbalanced"
   ]
  },
  {
   "cell_type": "code",
   "execution_count": 81,
   "metadata": {},
   "outputs": [],
   "source": [
    "# Due to the variances in the range of columns a standard scalar will help reduce bias when modelling.\n",
    "scaler = StandardScaler()\n",
    "X_train = scaler.fit_transform(X_train)\n",
    "X_test = scaler.transform(X_test)"
   ]
  },
  {
   "cell_type": "markdown",
   "metadata": {},
   "source": [
    "### Random Forest"
   ]
  },
  {
   "cell_type": "code",
   "execution_count": 82,
   "metadata": {},
   "outputs": [
    {
     "name": "stdout",
     "output_type": "stream",
     "text": [
      "Accuracy: 0.98\n",
      "Confusion Matrix:\n",
      "[[   0  134]\n",
      " [   0 5414]]\n"
     ]
    }
   ],
   "source": [
    "model = RandomForestClassifier(class_weight='balanced')\n",
    "model.fit(X_train, y_train)\n",
    "y_pred = model.predict(X_test)\n",
    "\n",
    "# Evaluate the model\n",
    "accuracy = accuracy_score(y_test, y_pred)\n",
    "print(f'Accuracy: {accuracy:.2f}')\n",
    "print(\"Confusion Matrix:\")\n",
    "print(confusion_matrix(y_test, y_pred))"
   ]
  },
  {
   "cell_type": "markdown",
   "metadata": {},
   "source": [
    "The first thing we observe is the majority class is being predicted well, but the minority class not at all, let's try Logistic Regression"
   ]
  },
  {
   "cell_type": "markdown",
   "metadata": {},
   "source": [
    "### Logistic Regression with L1 penalty"
   ]
  },
  {
   "cell_type": "code",
   "execution_count": 83,
   "metadata": {},
   "outputs": [
    {
     "name": "stdout",
     "output_type": "stream",
     "text": [
      "Accuracy: 0.55\n",
      "Confusion Matrix:\n",
      "[[  89   45]\n",
      " [2444 2970]]\n"
     ]
    }
   ],
   "source": [
    "model1 = LogisticRegression(class_weight={'Defaulted' : 40, 'Fully Paid' : 1}, penalty='l1', solver = 'liblinear', C=0.001)\n",
    "model1.fit(X_train, y_train)\n",
    "\n",
    "y_pred1 = model1.predict(X_test)\n",
    "\n",
    "accuracy1 = accuracy_score(y_test, y_pred1)\n",
    "print(f'Accuracy: {accuracy1:.2f}')\n",
    "print(\"Confusion Matrix:\")\n",
    "print(confusion_matrix(y_test, y_pred1))\n",
    "# print(model1.coef_[0])"
   ]
  },
  {
   "cell_type": "markdown",
   "metadata": {},
   "source": [
    "### Logistic Regression with L2 penalty"
   ]
  },
  {
   "cell_type": "code",
   "execution_count": 84,
   "metadata": {},
   "outputs": [
    {
     "name": "stdout",
     "output_type": "stream",
     "text": [
      "Accuracy: 0.63\n",
      "Confusion Matrix:\n",
      "[[  76   58]\n",
      " [2006 3408]]\n"
     ]
    }
   ],
   "source": [
    "model2 = LogisticRegression(class_weight={'Defaulted' : 40, 'Fully Paid' : 1}, penalty = 'l2', solver='liblinear', C=0.001)\n",
    "model2.fit(X_train, y_train)\n",
    "\n",
    "y_pred2 = model2.predict(X_test)\n",
    "\n",
    "accuracy2 = accuracy_score(y_test, y_pred2)\n",
    "print(f'Accuracy: {accuracy2:.2f}')\n",
    "print(\"Confusion Matrix:\")\n",
    "print(confusion_matrix(y_test, y_pred2))\n",
    "# print(model2.coef_[0])"
   ]
  },
  {
   "cell_type": "markdown",
   "metadata": {},
   "source": [
    "### Logistic Regression with L1 and L2 penalty"
   ]
  },
  {
   "cell_type": "code",
   "execution_count": 85,
   "metadata": {},
   "outputs": [
    {
     "name": "stdout",
     "output_type": "stream",
     "text": [
      "Accuracy: 0.98\n",
      "Confusion Matrix:\n",
      "[[   0  134]\n",
      " [   0 5414]]\n"
     ]
    }
   ],
   "source": [
    "model3 = LogisticRegression(penalty='elasticnet', solver='saga', l1_ratio= 0.5, C=0.05)\n",
    "model3.fit(X_train, y_train)\n",
    "\n",
    "y_pred3 = model3.predict(X_test)\n",
    "\n",
    "accuracy3 = accuracy_score(y_test, y_pred3)\n",
    "print(f'Accuracy: {accuracy3:.2f}')\n",
    "print(\"Confusion Matrix:\")\n",
    "print(confusion_matrix(y_test, y_pred3))"
   ]
  },
  {
   "cell_type": "markdown",
   "metadata": {},
   "source": [
    "## Attempt 2: Increasing weighting of Default class"
   ]
  },
  {
   "cell_type": "markdown",
   "metadata": {},
   "source": [
    "### Random Forest"
   ]
  },
  {
   "cell_type": "code",
   "execution_count": 86,
   "metadata": {},
   "outputs": [
    {
     "name": "stdout",
     "output_type": "stream",
     "text": [
      "Accuracy: 0.98\n",
      "Confusion Matrix:\n",
      "[[   0  134]\n",
      " [   0 5414]]\n"
     ]
    }
   ],
   "source": [
    "model = RandomForestClassifier(class_weight = {'Defaulted': 1000, 'Fully Paid' :1 })\n",
    "model.fit(X_train, y_train)\n",
    "\n",
    "y_pred = model.predict(X_test)\n",
    "\n",
    "accuracy = accuracy_score(y_test, y_pred)\n",
    "print(f'Accuracy: {accuracy:.2f}')\n",
    "print(\"Confusion Matrix:\")\n",
    "print(confusion_matrix(y_test, y_pred))\n",
    "\n"
   ]
  },
  {
   "cell_type": "markdown",
   "metadata": {},
   "source": [
    "### Logistic Regression"
   ]
  },
  {
   "cell_type": "code",
   "execution_count": 87,
   "metadata": {},
   "outputs": [
    {
     "name": "stdout",
     "output_type": "stream",
     "text": [
      "Accuracy: 0.44\n",
      "Confusion Matrix:\n",
      "[[ 100   34]\n",
      " [3084 2330]]\n"
     ]
    }
   ],
   "source": [
    "model2 = LogisticRegression(class_weight = {'Defaulted': 60, 'Fully Paid' :1 }, penalty='elasticnet', solver='saga', l1_ratio= 0.5, C=0.01)\n",
    "model2.fit(X_train, y_train)\n",
    "\n",
    "y_pred2 = model2.predict(X_test)\n",
    "\n",
    "accuracy2 = accuracy_score(y_test, y_pred2)\n",
    "print(f'Accuracy: {accuracy2:.2f}')\n",
    "print(\"Confusion Matrix:\")\n",
    "print(confusion_matrix(y_test, y_pred2))\n",
    "\n",
    "#print(model3.coef_[0])"
   ]
  },
  {
   "cell_type": "markdown",
   "metadata": {},
   "source": [
    "We can see that adjusting the weighting did not help at all in Random Forest and for logistic regression whilst it did improve the accuracy of those defaulted it lead to a great loss in predicting those who fully paid correctly, so instead we will take random samples from the majority class (Fully paid) so it is equal to the minority class (Deafulted) so that we have a more balanced datatset."
   ]
  },
  {
   "cell_type": "markdown",
   "metadata": {},
   "source": [
    "## Attempt 3: Balancing classes"
   ]
  },
  {
   "cell_type": "code",
   "execution_count": 105,
   "metadata": {},
   "outputs": [],
   "source": [
    "Fully_paid = df_encoded[df_encoded['outcome'] == 'Fully Paid']\n",
    "Defaulted = df_encoded[df_encoded['outcome'] == 'Defaulted']\n",
    "\n",
    "# Randomly sample from the majority class to match the size of the minority class\n",
    "sampled_majority_class = Fully_paid.sample(n=len(Defaulted), random_state=42)\n",
    "\n",
    "# Combine the sampled majority class with the minority class\n",
    "balanced_df = pd.concat([sampled_majority_class, Defaulted], axis=0)\n",
    "\n",
    "# Shuffle the rows to mix the classes\n",
    "balanced_df = balanced_df.sample(frac=1, random_state=42).reset_index(drop=True)\n",
    " \n",
    "X = balanced_df.drop('outcome', axis=1) \n",
    "y = balanced_df['outcome']\n",
    "X_train, X_test, y_train, y_test = train_test_split(X, y, test_size=0.2, random_state=42)"
   ]
  },
  {
   "cell_type": "code",
   "execution_count": 106,
   "metadata": {},
   "outputs": [],
   "source": [
    "scaler = StandardScaler()\n",
    "X_train = scaler.fit_transform(X_train)\n",
    "X_test = scaler.transform(X_test)"
   ]
  },
  {
   "cell_type": "markdown",
   "metadata": {},
   "source": [
    "### Random Forest"
   ]
  },
  {
   "cell_type": "code",
   "execution_count": 107,
   "metadata": {},
   "outputs": [
    {
     "name": "stdout",
     "output_type": "stream",
     "text": [
      "Accuracy: 0.61\n",
      "Confusion Matrix:\n",
      "[[79 55]\n",
      " [49 85]]\n"
     ]
    }
   ],
   "source": [
    "model = RandomForestClassifier() \n",
    "model.fit(X_train, y_train)\n",
    "\n",
    "y_pred = model.predict(X_test)\n",
    "\n",
    "accuracy = accuracy_score(y_test, y_pred)\n",
    "print(f'Accuracy: {accuracy:.2f}')\n",
    "\n",
    "print(\"Confusion Matrix:\")\n",
    "print(confusion_matrix(y_test, y_pred))\n",
    "\n",
    "# Check feature importances\n",
    "feature_importances = pd.Series(model.feature_importances_, index=X.columns)\n",
    "top_features = feature_importances.nlargest(n=15)\n",
    "\n",
    "# print(\"Feature Importances:\")\n",
    "# print(top_features)"
   ]
  },
  {
   "cell_type": "markdown",
   "metadata": {},
   "source": [
    "The Random forest is not predicting as accurately, however at least the Default values are being better predicted, let's now try logistic regression."
   ]
  },
  {
   "cell_type": "markdown",
   "metadata": {},
   "source": [
    "### Logistic Regression"
   ]
  },
  {
   "cell_type": "code",
   "execution_count": 108,
   "metadata": {},
   "outputs": [
    {
     "name": "stdout",
     "output_type": "stream",
     "text": [
      "Accuracy: 0.63\n",
      "Confusion Matrix:\n",
      "[[88 46]\n",
      " [53 81]]\n"
     ]
    }
   ],
   "source": [
    "model1 = LogisticRegression(penalty='l1', solver = 'liblinear', C=0.1)\n",
    "model1.fit(X_train, y_train)\n",
    "\n",
    "y_pred1 = model1.predict(X_test)\n",
    "\n",
    "accuracy1 = accuracy_score(y_test, y_pred1)\n",
    "print(f'Accuracy: {accuracy1:.2f}')\n",
    "print(\"Confusion Matrix:\")\n",
    "print(confusion_matrix(y_test, y_pred1))"
   ]
  },
  {
   "cell_type": "code",
   "execution_count": 111,
   "metadata": {},
   "outputs": [
    {
     "name": "stdout",
     "output_type": "stream",
     "text": [
      "Accuracy: 0.62\n",
      "Confusion Matrix:\n",
      "[[85 49]\n",
      " [54 80]]\n"
     ]
    }
   ],
   "source": [
    "# Logistic Regression model with L2\n",
    "model2 = LogisticRegression(penalty = 'l2', solver='liblinear', C=0.05)\n",
    "model2.fit(X_train, y_train)\n",
    "\n",
    "y_pred2 = model2.predict(X_test)\n",
    "\n",
    "accuracy2 = accuracy_score(y_test, y_pred2)\n",
    "print(f'Accuracy: {accuracy2:.2f}')\n",
    "print(\"Confusion Matrix:\")\n",
    "print(confusion_matrix(y_test, y_pred2))"
   ]
  },
  {
   "cell_type": "markdown",
   "metadata": {},
   "source": [
    "### Logistic Regression with a L1 and L2 penalty"
   ]
  },
  {
   "cell_type": "code",
   "execution_count": 115,
   "metadata": {},
   "outputs": [
    {
     "name": "stdout",
     "output_type": "stream",
     "text": [
      "Accuracy: 0.64\n",
      "Classification Report:\n",
      "              precision    recall  f1-score   support\n",
      "\n",
      "   Defaulted       0.63      0.66      0.64       134\n",
      "  Fully Paid       0.64      0.62      0.63       134\n",
      "\n",
      "    accuracy                           0.64       268\n",
      "   macro avg       0.64      0.64      0.64       268\n",
      "weighted avg       0.64      0.64      0.64       268\n",
      "\n",
      "Confusion Matrix:\n",
      "[[88 46]\n",
      " [51 83]]\n"
     ]
    }
   ],
   "source": [
    "model_best = LogisticRegression(penalty='elasticnet', solver='saga', l1_ratio= 0.5, C=0.06) \n",
    "# both L1 and L2 has similar results so we set the ratio to 0.5 so both penalties have equal weighting\n",
    "\n",
    "model_best.fit(X_train, y_train)\n",
    "y_pred3_ = model_best.predict(X_test)\n",
    "\n",
    "accuracy3_ = accuracy_score(y_test, y_pred3_)\n",
    "print(f'Accuracy: {accuracy3_:.2f}')\n",
    "print(\"Classification Report:\")\n",
    "\n",
    "print(classification_report(y_test, y_pred3_))\n",
    "print(\"Confusion Matrix:\")\n",
    "print(confusion_matrix(y_test, y_pred3_))\n",
    "\n",
    "#print(model3.coef_[0])"
   ]
  },
  {
   "cell_type": "markdown",
   "metadata": {},
   "source": [
    "### XGBoosting"
   ]
  },
  {
   "cell_type": "code",
   "execution_count": 94,
   "metadata": {},
   "outputs": [
    {
     "name": "stdout",
     "output_type": "stream",
     "text": [
      "Accuracy: 0.58\n",
      "[[77 57]\n",
      " [56 78]]\n"
     ]
    }
   ],
   "source": [
    "label_mapping = {'Defaulted' : 1, 'Fully Paid' : 0}\n",
    "y_train_mapped = y_train.map(label_mapping)\n",
    "y_test_mapped = y_test.map(label_mapping)\n",
    "\n",
    "dtrain = xgb.DMatrix(X_train, label=y_train_mapped)\n",
    "dtest = xgb.DMatrix(X_test, label=y_test_mapped)\n",
    "\n",
    "# Specify parameters\n",
    "params = {'objective': 'binary:logistic', 'eval_metric': 'logloss', 'eta': 0.3, 'max_depth': 4}\n",
    "\n",
    "num_rounds = 100\n",
    "model = xgb.train(params, dtrain, num_rounds)\n",
    "\n",
    "y_pred = model.predict(dtest)\n",
    "# Convert predicted probabilities to binary predictions\n",
    "y_pred_binary = [1 if prob > 0.5 else 0 for prob in y_pred]\n",
    "\n",
    "accuracy4 = accuracy_score(y_test_mapped, y_pred_binary)\n",
    "print(f'Accuracy: {accuracy4:.2f}')\n",
    "print(confusion_matrix(y_test_mapped, y_pred_binary))"
   ]
  },
  {
   "cell_type": "markdown",
   "metadata": {},
   "source": [
    "so far the Logistic regression model seems to be performing best with both a L1 and L2 penalty, and a inverse of Regularisation of 0.06\n",
    "\n",
    "Let us take the top most 15 features frm the above model. This may help reduce any overfitting and improve accuracy."
   ]
  },
  {
   "cell_type": "markdown",
   "metadata": {},
   "source": [
    "## Attempt 4: Using top 15 Features"
   ]
  },
  {
   "cell_type": "code",
   "execution_count": 116,
   "metadata": {},
   "outputs": [],
   "source": [
    "top_features = pd.DataFrame(top_features)\n",
    "top_features.reset_index(inplace=True)\n",
    "top_features.columns = ['Feature', 'Importance']\n",
    "subset = top_features['Feature'].tolist()"
   ]
  },
  {
   "cell_type": "code",
   "execution_count": 117,
   "metadata": {},
   "outputs": [],
   "source": [
    "X = balanced_df.drop('outcome', axis=1) \n",
    "X = X[subset]\n",
    "y = balanced_df['outcome']\n",
    "\n",
    "X_train, X_test, y_train, y_test = train_test_split(X, y, test_size=0.2, random_state=42)"
   ]
  },
  {
   "cell_type": "code",
   "execution_count": 118,
   "metadata": {},
   "outputs": [
    {
     "data": {
      "text/html": [
       "<div>\n",
       "<style scoped>\n",
       "    .dataframe tbody tr th:only-of-type {\n",
       "        vertical-align: middle;\n",
       "    }\n",
       "\n",
       "    .dataframe tbody tr th {\n",
       "        vertical-align: top;\n",
       "    }\n",
       "\n",
       "    .dataframe thead th {\n",
       "        text-align: right;\n",
       "    }\n",
       "</style>\n",
       "<table border=\"1\" class=\"dataframe\">\n",
       "  <thead>\n",
       "    <tr style=\"text-align: right;\">\n",
       "      <th></th>\n",
       "      <th>loan_amnt</th>\n",
       "      <th>revol_util</th>\n",
       "      <th>emp_title</th>\n",
       "      <th>avg_cur_bal</th>\n",
       "      <th>dti</th>\n",
       "      <th>mo_sin_old_il_acct</th>\n",
       "      <th>bc_open_to_buy</th>\n",
       "      <th>revol_bal</th>\n",
       "      <th>tot_hi_cred_lim</th>\n",
       "      <th>mo_sin_old_rev_tl_op</th>\n",
       "      <th>total_bal_ex_mort</th>\n",
       "      <th>total_acc</th>\n",
       "      <th>total_rev_hi_lim</th>\n",
       "      <th>tot_cur_bal</th>\n",
       "      <th>total_bc_limit</th>\n",
       "    </tr>\n",
       "  </thead>\n",
       "  <tbody>\n",
       "    <tr>\n",
       "      <th>0</th>\n",
       "      <td>25000.0</td>\n",
       "      <td>76.2</td>\n",
       "      <td>6347</td>\n",
       "      <td>35587.0</td>\n",
       "      <td>21.90</td>\n",
       "      <td>164.0</td>\n",
       "      <td>3082.0</td>\n",
       "      <td>44655</td>\n",
       "      <td>688337.0</td>\n",
       "      <td>373.0</td>\n",
       "      <td>257243.0</td>\n",
       "      <td>46</td>\n",
       "      <td>58600.0</td>\n",
       "      <td>640570.0</td>\n",
       "      <td>42800.0</td>\n",
       "    </tr>\n",
       "    <tr>\n",
       "      <th>1</th>\n",
       "      <td>12000.0</td>\n",
       "      <td>53.8</td>\n",
       "      <td>6738</td>\n",
       "      <td>11527.0</td>\n",
       "      <td>26.82</td>\n",
       "      <td>122.0</td>\n",
       "      <td>4253.0</td>\n",
       "      <td>17761</td>\n",
       "      <td>224567.0</td>\n",
       "      <td>124.0</td>\n",
       "      <td>58191.0</td>\n",
       "      <td>47</td>\n",
       "      <td>33000.0</td>\n",
       "      <td>195956.0</td>\n",
       "      <td>4800.0</td>\n",
       "    </tr>\n",
       "    <tr>\n",
       "      <th>2</th>\n",
       "      <td>20550.0</td>\n",
       "      <td>74.5</td>\n",
       "      <td>8034</td>\n",
       "      <td>48959.0</td>\n",
       "      <td>14.26</td>\n",
       "      <td>136.0</td>\n",
       "      <td>8758.0</td>\n",
       "      <td>25642</td>\n",
       "      <td>406021.0</td>\n",
       "      <td>196.0</td>\n",
       "      <td>41550.0</td>\n",
       "      <td>24</td>\n",
       "      <td>34400.0</td>\n",
       "      <td>391670.0</td>\n",
       "      <td>34400.0</td>\n",
       "    </tr>\n",
       "    <tr>\n",
       "      <th>3</th>\n",
       "      <td>5300.0</td>\n",
       "      <td>46.7</td>\n",
       "      <td>10363</td>\n",
       "      <td>6045.0</td>\n",
       "      <td>24.85</td>\n",
       "      <td>241.0</td>\n",
       "      <td>5441.0</td>\n",
       "      <td>4759</td>\n",
       "      <td>51899.0</td>\n",
       "      <td>180.0</td>\n",
       "      <td>36269.0</td>\n",
       "      <td>18</td>\n",
       "      <td>10200.0</td>\n",
       "      <td>36269.0</td>\n",
       "      <td>10200.0</td>\n",
       "    </tr>\n",
       "    <tr>\n",
       "      <th>4</th>\n",
       "      <td>17600.0</td>\n",
       "      <td>36.2</td>\n",
       "      <td>14002</td>\n",
       "      <td>4145.0</td>\n",
       "      <td>22.62</td>\n",
       "      <td>132.0</td>\n",
       "      <td>34642.0</td>\n",
       "      <td>25796</td>\n",
       "      <td>134536.0</td>\n",
       "      <td>155.0</td>\n",
       "      <td>34272.0</td>\n",
       "      <td>33</td>\n",
       "      <td>71200.0</td>\n",
       "      <td>78747.0</td>\n",
       "      <td>60400.0</td>\n",
       "    </tr>\n",
       "  </tbody>\n",
       "</table>\n",
       "</div>"
      ],
      "text/plain": [
       "   loan_amnt  revol_util  emp_title  avg_cur_bal    dti  mo_sin_old_il_acct  \\\n",
       "0    25000.0        76.2       6347      35587.0  21.90               164.0   \n",
       "1    12000.0        53.8       6738      11527.0  26.82               122.0   \n",
       "2    20550.0        74.5       8034      48959.0  14.26               136.0   \n",
       "3     5300.0        46.7      10363       6045.0  24.85               241.0   \n",
       "4    17600.0        36.2      14002       4145.0  22.62               132.0   \n",
       "\n",
       "   bc_open_to_buy  revol_bal  tot_hi_cred_lim  mo_sin_old_rev_tl_op  \\\n",
       "0          3082.0      44655         688337.0                 373.0   \n",
       "1          4253.0      17761         224567.0                 124.0   \n",
       "2          8758.0      25642         406021.0                 196.0   \n",
       "3          5441.0       4759          51899.0                 180.0   \n",
       "4         34642.0      25796         134536.0                 155.0   \n",
       "\n",
       "   total_bal_ex_mort  total_acc  total_rev_hi_lim  tot_cur_bal  total_bc_limit  \n",
       "0           257243.0         46           58600.0     640570.0         42800.0  \n",
       "1            58191.0         47           33000.0     195956.0          4800.0  \n",
       "2            41550.0         24           34400.0     391670.0         34400.0  \n",
       "3            36269.0         18           10200.0      36269.0         10200.0  \n",
       "4            34272.0         33           71200.0      78747.0         60400.0  "
      ]
     },
     "execution_count": 118,
     "metadata": {},
     "output_type": "execute_result"
    }
   ],
   "source": [
    "X.head()"
   ]
  },
  {
   "cell_type": "code",
   "execution_count": 119,
   "metadata": {},
   "outputs": [],
   "source": [
    "scaler = StandardScaler()\n",
    "X_train_scaled = scaler.fit_transform(X_train)\n",
    "X_test_scaled = scaler.transform(X_test)"
   ]
  },
  {
   "cell_type": "markdown",
   "metadata": {},
   "source": [
    "### Random Forest"
   ]
  },
  {
   "cell_type": "code",
   "execution_count": 120,
   "metadata": {},
   "outputs": [
    {
     "name": "stdout",
     "output_type": "stream",
     "text": [
      "Accuracy: 0.53\n",
      "Confusion Matrix:\n",
      "[[79 55]\n",
      " [70 64]]\n"
     ]
    }
   ],
   "source": [
    "model = RandomForestClassifier() # adjusts for differet sized classes\n",
    "model.fit(X_train, y_train)\n",
    "\n",
    "y_pred = model.predict(X_test)\n",
    "\n",
    "accuracy = accuracy_score(y_test, y_pred)\n",
    "print(f'Accuracy: {accuracy:.2f}')\n",
    "print(\"Confusion Matrix:\")\n",
    "print(confusion_matrix(y_test, y_pred))"
   ]
  },
  {
   "cell_type": "markdown",
   "metadata": {},
   "source": [
    "### Logistic Regression"
   ]
  },
  {
   "cell_type": "code",
   "execution_count": 121,
   "metadata": {},
   "outputs": [
    {
     "name": "stdout",
     "output_type": "stream",
     "text": [
      "Accuracy: 0.55\n",
      "Confusion Matrix:\n",
      "[[86 48]\n",
      " [73 61]]\n"
     ]
    }
   ],
   "source": [
    "model1 = LogisticRegression(penalty='l1', solver = 'liblinear', C=0.001)\n",
    "model1.fit(X_train, y_train)\n",
    "\n",
    "y_pred1 = model1.predict(X_test)\n",
    "\n",
    "accuracy1 = accuracy_score(y_test, y_pred1)\n",
    "print(f'Accuracy: {accuracy1:.2f}')\n",
    "print(\"Confusion Matrix:\")\n",
    "print(confusion_matrix(y_test, y_pred1))\n",
    "\n",
    "# print(model1.coef_[0])"
   ]
  },
  {
   "cell_type": "code",
   "execution_count": 122,
   "metadata": {},
   "outputs": [
    {
     "name": "stdout",
     "output_type": "stream",
     "text": [
      "Accuracy: 0.54\n",
      "Confusion Matrix:\n",
      "[[83 51]\n",
      " [73 61]]\n"
     ]
    }
   ],
   "source": [
    "model2 = LogisticRegression(penalty = 'l2', solver='liblinear', C=0.001)\n",
    "model2.fit(X_train, y_train)\n",
    "\n",
    "y_pred2 = model2.predict(X_test)\n",
    "\n",
    "accuracy2 = accuracy_score(y_test, y_pred2)\n",
    "print(f'Accuracy: {accuracy2:.2f}')\n",
    "print(\"Confusion Matrix:\")\n",
    "print(confusion_matrix(y_test, y_pred2))"
   ]
  },
  {
   "cell_type": "markdown",
   "metadata": {},
   "source": [
    "### Logistic Regression with L1 and L2 penalty"
   ]
  },
  {
   "cell_type": "code",
   "execution_count": 123,
   "metadata": {},
   "outputs": [
    {
     "name": "stdout",
     "output_type": "stream",
     "text": [
      "Accuracy: 0.59\n",
      "Confusion Matrix:\n",
      "[[107  27]\n",
      " [ 84  50]]\n"
     ]
    }
   ],
   "source": [
    "model3 = LogisticRegression(penalty='elasticnet', solver='saga', l1_ratio= 0.5, C=0.1)\n",
    "model3.fit(X_train, y_train)\n",
    "\n",
    "y_pred3 = model3.predict(X_test)\n",
    "\n",
    "accuracy3 = accuracy_score(y_test, y_pred3)\n",
    "print(f'Accuracy: {accuracy3:.2f}')\n",
    "print(\"Confusion Matrix:\")\n",
    "print(confusion_matrix(y_test, y_pred3))"
   ]
  },
  {
   "cell_type": "markdown",
   "metadata": {},
   "source": [
    "### XGBoost"
   ]
  },
  {
   "cell_type": "code",
   "execution_count": 124,
   "metadata": {},
   "outputs": [
    {
     "name": "stdout",
     "output_type": "stream",
     "text": [
      "Accuracy: 0.54\n",
      "[[67 67]\n",
      " [57 77]]\n"
     ]
    }
   ],
   "source": [
    "label_mapping = {'Defaulted' : 1, 'Fully Paid' : 0}\n",
    "y_train_mapped = y_train.map(label_mapping)\n",
    "y_test_mapped = y_test.map(label_mapping)\n",
    "\n",
    "dtrain = xgb.DMatrix(X_train, label=y_train_mapped)\n",
    "dtest = xgb.DMatrix(X_test, label=y_test_mapped)\n",
    "\n",
    "# Specify parameters\n",
    "params = {'objective': 'binary:logistic', 'eval_metric': 'logloss', 'eta': 0.3, 'max_depth': 4}\n",
    "\n",
    "# Train the model\n",
    "num_rounds = 100\n",
    "model = xgb.train(params, dtrain, num_rounds)\n",
    "y_pred = model.predict(dtest)\n",
    "\n",
    "# Convert predicted probabilities to binary predictions\n",
    "y_pred_binary = [1 if prob > 0.5 else 0 for prob in y_pred]\n",
    "\n",
    "# Evaluate accuracy\n",
    "accuracy4 = accuracy_score(y_test_mapped, y_pred_binary)\n",
    "print(f'Accuracy: {accuracy4:.2f}')\n",
    "print(confusion_matrix(y_test_mapped, y_pred_binary))\n",
    "\n"
   ]
  },
  {
   "cell_type": "markdown",
   "metadata": {},
   "source": [
    "# Conclusion"
   ]
  },
  {
   "cell_type": "markdown",
   "metadata": {},
   "source": [
    "The Logistic regression model using L1 and L2 penalties performed the best amongst the 3 models. The penalties make insignificant features redundant and also reduces multicolinearity between features which is likely why it performed better with all of the features as opposed to just the top 15.\n",
    "\n",
    "Further techniques can be used such as Cross validation, aswell as looking at other samples and an overall larger set of data, as well as putting the transformations and model into a pipeline for reproducability.\n",
    "Below we have a confusion matrix of the best model."
   ]
  },
  {
   "cell_type": "code",
   "execution_count": 125,
   "metadata": {},
   "outputs": [
    {
     "data": {
      "image/png": "[encoded data removed]",
      "text/plain": [
       "<Figure size 800x600 with 1 Axes>"
      ]
     },
     "metadata": {},
     "output_type": "display_data"
    }
   ],
   "source": [
    "cm = confusion_matrix(y_test, y_pred3_)\n",
    "\n",
    "plt.figure(figsize=(8, 6))\n",
    "sns.heatmap(cm, annot=True, fmt='d', cmap='Blues', cbar=False,\n",
    "            xticklabels=['Defaulted', 'Fully Paid'],\n",
    "            yticklabels=['Defaulted', 'Fully Paid'],)\n",
    "plt.title('Confusion Matrix for Logistic Regression')\n",
    "plt.xlabel('Predicted Label')\n",
    "plt.ylabel('True Label')\n",
    "plt.show()"
   ]
  },
  {
   "cell_type": "code",
   "execution_count": null,
   "metadata": {},
   "outputs": [],
   "source": []
  },
  {
   "cell_type": "code",
   "execution_count": null,
   "metadata": {},
   "outputs": [],
   "source": []
  }
 ],
 "metadata": {
  "kernelspec": {
   "display_name": "Fraud_detection_two-W4ZD88Z_",
   "language": "python",
   "name": "python3"
  },
  "language_info": {
   "codemirror_mode": {
    "name": "ipython",
    "version": 3
   },
   "file_extension": ".py",
   "mimetype": "text/x-python",
   "name": "python",
   "nbconvert_exporter": "python",
   "pygments_lexer": "ipython3",
   "version": "3.0.0"
  },
  "orig_nbformat": 4
 },
 "nbformat": 4,
 "nbformat_minor": 2
}
